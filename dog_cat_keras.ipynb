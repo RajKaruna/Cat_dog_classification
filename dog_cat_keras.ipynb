{
 "cells": [
  {
   "cell_type": "code",
   "execution_count": 1,
   "metadata": {},
   "outputs": [],
   "source": [
    "import os  \n",
    "from tqdm import tqdm\n",
    "import cv2"
   ]
  },
  {
   "cell_type": "code",
   "execution_count": 2,
   "metadata": {},
   "outputs": [],
   "source": [
    "TRAIN_DIR = '/home/karuna/Documents/cat_dog_class_keras/train'\n",
    "IMG_SIZE = 50"
   ]
  },
  {
   "cell_type": "code",
   "execution_count": 7,
   "metadata": {},
   "outputs": [
    {
     "name": "stderr",
     "output_type": "stream",
     "text": [
      "100%|██████████| 25000/25000 [04:55<00:00, 84.47it/s] \n"
     ]
    }
   ],
   "source": [
    "def create_train_test_dir():\n",
    "    counter=1\n",
    "    for img in tqdm(os.listdir(TRAIN_DIR)):\n",
    "    \tword_label = img.split('.')[-3]\n",
    "    \tif word_label == 'cat': lable=\"cats\"\n",
    "    \telif word_label == 'dog': lable=\"dogs\"\n",
    "    \tpath = os.path.join(TRAIN_DIR,img)\n",
    "    \timg = cv2.imread(path,cv2.IMREAD_GRAYSCALE)\n",
    "    \timg = cv2.resize(img, (IMG_SIZE,IMG_SIZE))\n",
    "    \tcv2.imwrite(\"./training_data/\"+lable+'/'+str(counter)+'.jpg',img)\n",
    "    \t#print(\"image saved\"+str(counter))\n",
    "    \tcounter += 1\n",
    "\n",
    "\n",
    "'''\n",
    "def process_val_data():\n",
    "\tcounter = 1\n",
    "\tfor img in tqdm(os.listdir(TEST_DIR)):\n",
    "\t\tpath = os.path.join(TEST_DIR,img)\n",
    "\t\timg_num = img.split('.')[0]\n",
    "\t\timg = cv2.imread(path,cv2.IMREAD_GRAYSCALE)\n",
    "\t\timg = cv2.resize(img, (IMG_SIZE,IMG_SIZE))\n",
    "\t\tcv2.imwrite(\"/media/parth/06C20E27C20E1B95/machine_leaning/examples_pylibreries/keras/val_data/\"+str(counter)+'.jpg',img)\n",
    "\t\tcounter += 1\n",
    "process_val_data()\n",
    "'''\n",
    "create_train_test_dir()"
   ]
  },
  {
   "cell_type": "code",
   "execution_count": 8,
   "metadata": {},
   "outputs": [],
   "source": [
    "from keras.models import Sequential\n",
    "from keras.layers import Conv2D\n",
    "from keras.layers import MaxPooling2D\n",
    "from keras.layers import Flatten\n",
    "from keras.layers import Dense\n"
   ]
  },
  {
   "cell_type": "code",
   "execution_count": null,
   "metadata": {},
   "outputs": [
    {
     "name": "stdout",
     "output_type": "stream",
     "text": [
      "Found 25000 images belonging to 2 classes.\n",
      "Epoch 1/25\n",
      "8000/8000 [==============================] - 2277s 285ms/step - loss: 0.4655 - acc: 0.7731\n",
      "Epoch 2/25\n",
      " 538/8000 [=>............................] - ETA: 1:40:38 - loss: 0.3759 - acc: 0.8299 ETA: 1:19:58 - loss: 0.3761 - acc: 0. - ETA: 1:45:59 - loss: 0.3759 - acc: 0.83 - ETA: 1:48:14 - loss: 0.3760 - acc: 0.82 - ETA: 1:51:21 - loss: 0.3761 - acc: 0.8299"
     ]
    }
   ],
   "source": [
    "# Initialising the CNN\n",
    "model = Sequential()\n",
    "\n",
    "# Convolution\n",
    "model.add(Conv2D(32, (3, 3), input_shape = (50, 50, 3), activation = 'relu'))\n",
    "\n",
    "# Pooling\n",
    "model.add(MaxPooling2D(pool_size = (2, 2)))\n",
    "\n",
    "# Second convolutional layer\n",
    "model.add(Conv2D(32, (3, 3), activation = 'relu'))\n",
    "model.add(MaxPooling2D(pool_size = (2, 2)))\n",
    "\n",
    "# Flattening\n",
    "model.add(Flatten())\n",
    "\n",
    "# Full connection\n",
    "model.add(Dense(units = 128, activation = 'relu'))\n",
    "model.add(Dense(units = 1, activation = 'sigmoid'))\n",
    "\n",
    "# Compiling the CNN\n",
    "model.compile(optimizer = 'adam', loss = 'binary_crossentropy', metrics = ['accuracy'])\n",
    "\n",
    "\n",
    "from keras.preprocessing.image import ImageDataGenerator\n",
    "\n",
    "train_datagen = ImageDataGenerator(rescale = 1./255,\n",
    "                                   shear_range = 0.2,\n",
    "                                   zoom_range = 0.2,\n",
    "                                   horizontal_flip = True)\n",
    "#test_datagen = ImageDataGenerator(rescale = 1./255)\n",
    "\n",
    "training_set = train_datagen.flow_from_directory('/home/karuna/Documents/cat_dog_class_keras/training_data',\n",
    "                                                 target_size = (50, 50),\n",
    "                                                 batch_size = 32,\n",
    "                                                 class_mode = 'binary')\n",
    "\n",
    "model.fit_generator(training_set,\n",
    "                         steps_per_epoch = 8000,\n",
    "                         epochs = 25,\n",
    "                         validation_steps = 2000)\n",
    "\n",
    "model_json = model.to_json()\n",
    "with open(\"/home/karuna/Documents/cat_dog_class_keras/model.json\",\"w\") as json_file:\n",
    "    json_file.write(model_json)\n",
    "\n",
    "model.save_weights(\"/home/karuna/Documents/cat_dog_class_keras/model.h5\")\n",
    "print(\"saved model..! ready to go.\")"
   ]
  },
  {
   "cell_type": "code",
   "execution_count": null,
   "metadata": {},
   "outputs": [],
   "source": []
  }
 ],
 "metadata": {
  "kernelspec": {
   "display_name": "Python 3",
   "language": "python",
   "name": "python3"
  },
  "language_info": {
   "codemirror_mode": {
    "name": "ipython",
    "version": 3
   },
   "file_extension": ".py",
   "mimetype": "text/x-python",
   "name": "python",
   "nbconvert_exporter": "python",
   "pygments_lexer": "ipython3",
   "version": "3.6.3"
  }
 },
 "nbformat": 4,
 "nbformat_minor": 2
}
